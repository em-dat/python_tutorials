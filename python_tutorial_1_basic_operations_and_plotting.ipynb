{
 "cells": [
  {
   "cell_type": "markdown",
   "id": "db31ad03",
   "metadata": {},
   "source": [
    "# Basic Operations and Plotting\n",
    "\n",
    "This tutorial shows basic examples on how to load, handle, and plot the EM-DAT data using the [`pandas`](https://pandas.pydata.org/) Python data analysis package and the [`matplotlib`](https://matplotlib.org/) charting library.\n",
    "\n",
    "**Note**: This tutorial is also available on the [EM-DAT Documentation Website](https://doc.emdat.be/docs/additional-resources-and-tutorials/tutorials/python_tutorial_1/).\n",
    "\n",
    "## Import Modules\n",
    "\n",
    "Let us import the necessary modules and print their versions. For this tutorial, we used `pandas` v.2.1.1 and `matplotlib` v.3.8.3. If your package versions are different, you may have to adapt this tutorial by checking the corresponding package documentation."
   ]
  },
  {
   "cell_type": "code",
   "execution_count": null,
   "id": "ba2277aa",
   "metadata": {},
   "outputs": [],
   "source": [
    "import pandas as pd #data analysis package\n",
    "import matplotlib as mpl\n",
    "import matplotlib.pyplot as plt #plotting library\n",
    "for i in [pd, mpl]:\n",
    "    print(i.__name__, i.__version__)"
   ]
  },
  {
   "cell_type": "markdown",
   "id": "9a596275",
   "metadata": {},
   "source": [
    "## Load EM-DAT\n",
    "\n",
    "To load EM-DAT:\n",
    "* Download the EM-DAT data at https://public.emdat.be/;\n",
    "* Use the [pd.read_excel](https://pandas.pydata.org/docs/reference/api/pandas.read_excel.html) method to load and parse the data into a `pd.DataFrame` object; \n",
    "* Check if the data has been succesfully parsed with the [`pd.DataFrame.info`](https://pandas.pydata.org/docs/reference/api/pandas.DataFrame.info.html) method.\n",
    "\n",
    "**Notes**: \n",
    "1. You may need to install the `openpyxl` package or another engine to make it possible to read the data. \n",
    "2. Another option is to export the `.xlsx` file into a `.csv`, and use the [`pd.read_csv`](https://pandas.pydata.org/docs/reference/api/pandas.read_csv.html) method;\n",
    "3. If not in the same folder as the Python code, replace the filename with the relative path or the full path, e.g., `E:/MyDATa/public_emdat_2024-01-08.xlsx`"
   ]
  },
  {
   "cell_type": "code",
   "execution_count": null,
   "id": "893cea26",
   "metadata": {},
   "outputs": [],
   "source": [
    "#!pip install openpyxl\n",
    "df = pd.read_excel('public_emdat_2024-01-08.xlsx') # <-- modify file name or path\n",
    "df.info()"
   ]
  },
  {
   "cell_type": "markdown",
   "id": "6c8b1c4e",
   "metadata": {},
   "source": [
    "## Example 1: Japan Earthquake Data\n",
    "\n",
    "### Filtering \n",
    "\n",
    "Let us focus on the EM-DAT earthquakes in Japan for the 2000-2023 period and build an appropriate filter using the EM-DAT columns `Disaster Type`, `ISO` and `Start Year`. \n",
    "\n",
    "For simplicity, let us only keep the columns `Start Year`, `Magnitude`, and `Total Deaths` and show the 5 first outcomes with the [`pd.DataFrame.head`](https://pandas.pydata.org/docs/reference/api/pandas.DataFrame.head.html) method.\n",
    "\n",
    "**Note**:\n",
    "If you need more insight about the columns, check the EM-DAT Documentation page [EM-DAT Public Table](https://doc.emdat.be/docs/data-structure-and-content/emdat-public-table/)."
   ]
  },
  {
   "cell_type": "code",
   "execution_count": null,
   "id": "0600fc5f",
   "metadata": {},
   "outputs": [],
   "source": [
    "eq_jpn = df[\n",
    "    (df['Disaster Type'] == 'Earthquake') &\n",
    "    (df['ISO'] == 'JPN') &\n",
    "    (df['Start Year'] < 2024)\n",
    "][['Start Year', 'Magnitude', 'Total Deaths', 'Total Affected']]\n",
    "eq_jpn.head(5)"
   ]
  },
  {
   "cell_type": "markdown",
   "id": "e57c7802",
   "metadata": {},
   "source": [
    "### Grouping\n",
    "\n",
    "Let us group the data to calculate the number of earthquake event by year and plot the results.\n",
    "* Use the [`groupby`](https://pandas.pydata.org/docs/reference/api/pandas.DataFrame.groupby.html) method to group based on one or more columns in a DataFrame, e.g., `Start Year`;\n",
    "* Use the [`size`](https://pandas.pydata.org/pandas-docs/stable/reference/api/pandas.DataFrame.size.html) method as an aggregation method (or [`count`](https://pandas.pydata.org/docs/reference/api/pandas.DataFrame.count.html)).\n",
    "* Plot the results easilly using the [`pd.DataFrame.plot`](https://pandas.pydata.org/docs/reference/api/pandas.DataFrame.plot.html) method.\n",
    "\n",
    "**Note**: The `count` method provides the total number of non-missing values, while `size` gives the total number of elements (including missing values). Since the field `Start Year` is always defined, both methods should return the same results.\n"
   ]
  },
  {
   "cell_type": "code",
   "execution_count": null,
   "id": "2c2ece29",
   "metadata": {},
   "outputs": [],
   "source": [
    "eq_jpn.groupby(['Start Year']).size().plot(kind='bar')"
   ]
  },
  {
   "cell_type": "markdown",
   "id": "77caa7c4",
   "metadata": {},
   "source": [
    "### Customize Chart\n",
    "\n",
    "The `pandas` library relies on the `matplotlib` package to draw charts. To have more flexibility on the rendered chart, let us create the figure using the imported `plt` submodule."
   ]
  },
  {
   "cell_type": "code",
   "execution_count": null,
   "id": "2fd88b91",
   "metadata": {},
   "outputs": [],
   "source": [
    "# Group earthquake data by 'Start Year' and count occurrences\n",
    "eq_cnt = eq_jpn.groupby(['Start Year']).size()\n",
    "\n",
    "# Initialize plot with specified figure size\n",
    "fig, ax = plt.subplots(figsize=(7, 2))\n",
    "\n",
    "# Plot number of earthquakes per year\n",
    "ax.bar(eq_cnt.index, eq_cnt)\n",
    "\n",
    "# Set axis labels and title\n",
    "ax.set_xlabel('Year')\n",
    "ax.set_ylabel('N° of Earthquake')\n",
    "ax.set_yticks([0, 1, 2, 3])  # Define y-axis tick marks\n",
    "ax.set_title('Number of EM-DAT Earthquake in Japan (2000-2023)')"
   ]
  },
  {
   "cell_type": "markdown",
   "id": "9b6db90d",
   "metadata": {},
   "source": [
    "## Example 2: Comparing Regions \n",
    "\n",
    "Let us compare earthquake death toll by continents. As before, we filter the original dataframe `df` according to our specific needs, including the `Region` column. "
   ]
  },
  {
   "cell_type": "code",
   "execution_count": null,
   "id": "ef5304f6",
   "metadata": {},
   "outputs": [],
   "source": [
    "eq_all = df[\n",
    "    (df['Disaster Type'] == 'Earthquake') &\n",
    "    (df['Start Year'] < 2024)\n",
    "][['Start Year', 'Magnitude', 'Region', 'Total Deaths', 'Total Affected']]\n",
    "eq_all.head(5)"
   ]
  },
  {
   "cell_type": "markdown",
   "id": "0aa8d5ed",
   "metadata": {},
   "source": [
    "In this case,\n",
    "* Use the [`groupby`](https://pandas.pydata.org/docs/reference/api/pandas.DataFrame.groupby.html) method to group based on the `Region` column;\n",
    "* Use the [`sum`](https://pandas.pydata.org/docs/reference/api/pandas.DataFrame.sum.html) method for the `Total Deaths` field as aggregation method;\n",
    "* Plot the results easilly using the [`pd.DataFrame.plot`](https://pandas.pydata.org/docs/reference/api/pandas.DataFrame.plot.html) method."
   ]
  },
  {
   "cell_type": "code",
   "execution_count": null,
   "id": "100fdd97",
   "metadata": {},
   "outputs": [],
   "source": [
    "eq_sum = eq_all.groupby(['Region'])['Total Deaths'].sum()\n",
    "eq_sum"
   ]
  },
  {
   "cell_type": "markdown",
   "id": "9347873f",
   "metadata": {},
   "source": [
    "Finally, let us make an horizontal bar chart of it using `matplotlib`. In particular,\n",
    "\n",
    "* use the [`ax.ticklabel_format`](https://matplotlib.org/stable/api/_as_gen/matplotlib.axes.Axes.ticklabel_format.html) method to set the x axis label as scientific (in thousands of deaths);\n",
    "* use the [`ax.invert_yaxis`](https://matplotlib.org/stable/api/_as_gen/matplotlib.axes.Axes.invert_yaxis.html) to display the regions in alphabetical order from top to bottom."
   ]
  },
  {
   "cell_type": "code",
   "execution_count": null,
   "id": "4832dc09",
   "metadata": {},
   "outputs": [],
   "source": [
    "fig, ax = plt.subplots(figsize=(4,3))\n",
    "ax.barh(eq_sum.index, eq_sum)\n",
    "ax.set_xlabel('Total Earthquake Deaths')\n",
    "ax.ticklabel_format(style='sci',scilimits=(3,3),axis='x')\n",
    "ax.invert_yaxis()\n",
    "ax.set_title('EM-DAT Earthquake Deaths by Regions')"
   ]
  },
  {
   "cell_type": "markdown",
   "id": "c974037d",
   "metadata": {},
   "source": [
    "## Example 3: Multiple Grouping\n",
    "\n",
    "At last, let us report the earthquake time series by continents. To avoid the creation of a `['Region', 'Start Year']` multiindex for future processing, we set the argument `as_index` to `False`. As such, `Region` and `Start Year` remain columns. "
   ]
  },
  {
   "cell_type": "code",
   "execution_count": null,
   "id": "29ef5081",
   "metadata": {},
   "outputs": [],
   "source": [
    "eq_reg_ts = eq_all.groupby(\n",
    "    ['Region', 'Start Year'], as_index=False\n",
    ")['Total Deaths'].sum()\n",
    "eq_reg_ts"
   ]
  },
  {
   "cell_type": "markdown",
   "id": "b5dd39ad",
   "metadata": {},
   "source": [
    "Next, we apply the [`pivot`](https://pandas.pydata.org/pandas-docs/stable/reference/api/pandas.DataFrame.pivot.html) method to restructure the table in a way it could be plot easilly."
   ]
  },
  {
   "cell_type": "code",
   "execution_count": null,
   "id": "eac0f890",
   "metadata": {},
   "outputs": [],
   "source": [
    "eq_pivot_ts = eq_reg_ts.pivot(\n",
    "    index='Start Year', columns='Region', values='Total Deaths'\n",
    ")\n",
    "eq_pivot_ts.head()"
   ]
  },
  {
   "cell_type": "code",
   "execution_count": null,
   "id": "0143a619",
   "metadata": {},
   "outputs": [],
   "source": [
    "ax = eq_pivot_ts.plot(kind='bar', width=1, figsize=(6,3))\n",
    "ax.set_ylabel('Total Deaths')\n",
    "ax.set_title('EM-DAT Earthquake Deaths by Regions')"
   ]
  },
  {
   "cell_type": "markdown",
   "id": "0cae18a2-3ecd-444a-affb-bebbe48caf48",
   "metadata": {},
   "source": [
    "In order to be able to visualize the data in more details, let us make a subplot instead by setting the   `subplot` argument to `True` within the `plot` method. "
   ]
  },
  {
   "cell_type": "code",
   "execution_count": null,
   "id": "00c664b5-9dec-461b-ad4d-b15ee88393c8",
   "metadata": {},
   "outputs": [],
   "source": [
    "ax = eq_pivot_ts.plot(kind='bar', subplots=True, legend=False, figsize=(6,6))\n",
    "plt.tight_layout() # <-- adjust plot layout"
   ]
  },
  {
   "cell_type": "markdown",
   "id": "ae43b03e-ac9a-489f-a000-4dd877c49dfc",
   "metadata": {},
   "source": [
    "We have just covered the most common manipulations applied to a [`pandas`](https://pandas.pydata.org/pandas-docs/stable/) `DataFrame` containing the EM-DAT data. To delve further into your analyses, we encourage you to continue your learning of [pandas](https://pandas.pydata.org/pandas-docs/stable/) and [matplotlib](https://matplotlib.org/stable/contents.html) with the many resources available online, starting with the official documentation.\n",
    "\n",
    "If you are interested in learning the basics of making maps based on EM-DAT data, you can also follow the [EM-DAT Python Tutorial 2: Making Maps](./python_tutorial_2_making_maps.ipynb)."
   ]
  }
 ],
 "metadata": {
  "hide_input": false,
  "kernelspec": {
   "display_name": "Python 3 (ipykernel)",
   "language": "python",
   "name": "python3"
  },
  "language_info": {
   "codemirror_mode": {
    "name": "ipython",
    "version": 3
   },
   "file_extension": ".py",
   "mimetype": "text/x-python",
   "name": "python",
   "nbconvert_exporter": "python",
   "pygments_lexer": "ipython3",
   "version": "3.12.2"
  },
  "latex_envs": {
   "LaTeX_envs_menu_present": true,
   "autoclose": false,
   "autocomplete": true,
   "bibliofile": "biblio.bib",
   "cite_by": "apalike",
   "current_citInitial": 1,
   "eqLabelWithNumbers": true,
   "eqNumInitial": 1,
   "hotkeys": {
    "equation": "Ctrl-E",
    "itemize": "Ctrl-I"
   },
   "labels_anchors": false,
   "latex_user_defs": false,
   "report_style_numbering": false,
   "user_envs_cfg": false
  }
 },
 "nbformat": 4,
 "nbformat_minor": 5
}
